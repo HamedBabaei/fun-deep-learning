{
 "cells": [
  {
   "cell_type": "markdown",
   "metadata": {},
   "source": [
    "### Import"
   ]
  },
  {
   "cell_type": "code",
   "execution_count": 1,
   "metadata": {},
   "outputs": [],
   "source": [
    "import numpy as np\n",
    "from gradcheck_utils import gradient_check\n",
    "import dnn"
   ]
  },
  {
   "cell_type": "markdown",
   "metadata": {},
   "source": [
    "# A test case"
   ]
  },
  {
   "cell_type": "code",
   "execution_count": 2,
   "metadata": {},
   "outputs": [],
   "source": [
    "parameters = {'W1': np.array([[-0.3224172 , -0.38405435,  1.13376944, -1.09989127],\n",
    "        [-0.17242821, -0.87785842,  0.04221375,  0.58281521],\n",
    "        [-1.10061918,  1.14472371,  0.90159072,  0.50249434],\n",
    "        [ 0.90085595, -0.68372786, -0.12289023, -0.93576943],\n",
    "        [-0.26788808,  0.53035547, -0.69166075, -0.39675353]]),\n",
    " 'b1': np.array([[-0.6871727 ],\n",
    "        [-0.84520564],\n",
    "        [-0.67124613],\n",
    "        [-0.0126646 ],\n",
    "        [-1.11731035]]),\n",
    " 'W2': np.array([[ 0.2344157 ,  1.65980218,  0.74204416, -0.19183555, -0.88762896],\n",
    "        [-0.74715829,  1.6924546 ,  0.05080775, -0.63699565,  0.19091548],\n",
    "        [ 2.10025514,  0.12015895,  0.61720311,  0.30017032, -0.35224985]]),\n",
    " 'b2': np.array([[-1.1425182 ],\n",
    "        [-0.34934272],\n",
    "        [-0.20889423]]),\n",
    " 'W3': np.array([[0.58662319, 0.83898341, 0.93110208]]),\n",
    " 'b3': np.array([[0.28558733]])}\n",
    "\n",
    "X = np.array([[ 1.62434536, -0.61175641, -0.52817175],\n",
    "       [-1.07296862,  0.86540763, -2.3015387 ],\n",
    "       [ 1.74481176, -0.7612069 ,  0.3190391 ],\n",
    "       [-0.24937038,  1.46210794, -2.06014071]])\n",
    "\n",
    "Y = np.array([[1, 1, 0]])\n",
    "\n",
    "layer_dims = [X.shape[1], 3, 1]\n"
   ]
  },
  {
   "cell_type": "markdown",
   "metadata": {},
   "source": [
    "# Gradient Checking Main"
   ]
  },
  {
   "cell_type": "code",
   "execution_count": 3,
   "metadata": {},
   "outputs": [
    {
     "name": "stdout",
     "output_type": "stream",
     "text": [
      "\u001b[92mYour backward propagation works perfectly fine! difference = 7.05818200011125e-08\u001b[0m\n"
     ]
    }
   ],
   "source": [
    "AL, caches = dnn.L_model_forward(X, parameters)\n",
    "\n",
    "gradients = dnn.L_model_backward(AL, Y, caches)\n",
    "\n",
    "difference = gradient_check(parameters, gradients, X, Y)"
   ]
  },
  {
   "cell_type": "code",
   "execution_count": 4,
   "metadata": {},
   "outputs": [
    {
     "data": {
      "text/plain": [
       "7.05818200011125e-08"
      ]
     },
     "execution_count": 4,
     "metadata": {},
     "output_type": "execute_result"
    }
   ],
   "source": [
    "difference"
   ]
  },
  {
   "cell_type": "code",
   "execution_count": null,
   "metadata": {},
   "outputs": [],
   "source": []
  },
  {
   "cell_type": "code",
   "execution_count": null,
   "metadata": {},
   "outputs": [],
   "source": []
  }
 ],
 "metadata": {
  "kernelspec": {
   "display_name": "Python 3",
   "language": "python",
   "name": "python3"
  },
  "language_info": {
   "codemirror_mode": {
    "name": "ipython",
    "version": 3
   },
   "file_extension": ".py",
   "mimetype": "text/x-python",
   "name": "python",
   "nbconvert_exporter": "python",
   "pygments_lexer": "ipython3",
   "version": "3.6.9"
  }
 },
 "nbformat": 4,
 "nbformat_minor": 2
}
