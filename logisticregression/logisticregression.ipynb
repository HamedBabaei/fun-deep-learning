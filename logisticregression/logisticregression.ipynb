{
 "cells": [
  {
   "cell_type": "markdown",
   "metadata": {},
   "source": [
    "# Logistic Regression with a Neural Network mindset"
   ]
  },
  {
   "cell_type": "code",
   "execution_count": 1,
   "metadata": {},
   "outputs": [],
   "source": [
    "import __init__\n",
    "from logisticregression import LogisticRegression\n",
    "from utils import dataloader\n",
    "from utils import image\n",
    "from utils import base"
   ]
  },
  {
   "cell_type": "markdown",
   "metadata": {},
   "source": [
    "**Loading Dataset**"
   ]
  },
  {
   "cell_type": "code",
   "execution_count": 2,
   "metadata": {},
   "outputs": [],
   "source": [
    "# Loading the data (cat/non-cat)\n",
    "train_set_x_orig, train_set_y, test_set_x_orig, test_set_y, classes = \\\n",
    "                              dataloader.load_dataset(\"../dataset/catvnotcat\", 'catvnotcat')"
   ]
  },
  {
   "cell_type": "markdown",
   "metadata": {},
   "source": [
    "**display a few examples**"
   ]
  },
  {
   "cell_type": "code",
   "execution_count": 3,
   "metadata": {},
   "outputs": [
    {
     "name": "stdout",
     "output_type": "stream",
     "text": [
      "y = 1\n"
     ]
    },
    {
     "data": {
      "image/png": "[encoded data removed]",
      "text/plain": [
       "<Figure size 432x288 with 1 Axes>"
      ]
     },
     "metadata": {
      "needs_background": "light"
     },
     "output_type": "display_data"
    }
   ],
   "source": [
    "index = 200\n",
    "image.display_image(train_set_x_orig[index], train_set_y[:,index][0])"
   ]
  },
  {
   "cell_type": "markdown",
   "metadata": {},
   "source": [
    "**Train and Test size's + flatten + standardize dataset**"
   ]
  },
  {
   "cell_type": "code",
   "execution_count": 4,
   "metadata": {},
   "outputs": [
    {
     "name": "stdout",
     "output_type": "stream",
     "text": [
      "train_set_x shape: (209, 64, 64, 3)\n",
      "train_set_y shape: (1, 209)\n",
      "test_set_x shape: (50, 64, 64, 3)\n",
      "test_set_y shape: (1, 50)\n"
     ]
    }
   ],
   "source": [
    "#`train_set_x_orig` is a numpy-array of shape (m_train, num_px, num_px, 3), test is similar to this one too!\n",
    "print (\"train_set_x shape: \" + str(train_set_x_orig.shape))\n",
    "print (\"train_set_y shape: \" + str(train_set_y.shape))\n",
    "print (\"test_set_x shape: \" + str(test_set_x_orig.shape))\n",
    "print (\"test_set_y shape: \" + str(test_set_y.shape))"
   ]
  },
  {
   "cell_type": "code",
   "execution_count": 5,
   "metadata": {},
   "outputs": [
    {
     "name": "stdout",
     "output_type": "stream",
     "text": [
      "m_train:209,  m_test:50,  num_px: 64\n",
      "train_set_x_flatten shape: (12288, 209)\n",
      "train_set_y shape: (1, 209)\n",
      "test_set_x_flatten shape: (12288, 50)\n",
      "test_set_y shape: (1, 50)\n",
      "sanity check after reshaping: [0.06666667 0.12156863 0.21960784 0.08627451 0.12941176]\n"
     ]
    }
   ],
   "source": [
    "m_train = train_set_x_orig.shape[0]\n",
    "m_test = test_set_x_orig.shape[0]\n",
    "num_px = train_set_x_orig.shape[1]\n",
    "print(f\"m_train:{m_train},  m_test:{m_test},  num_px: {num_px}\")\n",
    "\n",
    "#flatten images into single vector\n",
    "#train_set_x_flatten, test_set_x_flatten = image.flatten_X(train_set_x_orig), image.flatten_X(test_set_x_orig)\n",
    "\n",
    "#or just simply use standarze_dataset to flatten and standardize it using x/255\n",
    "train_set_x, test_set_x = image.standardize_dataset(train_set_x_orig), image.standardize_dataset(test_set_x_orig)\n",
    "\n",
    "print (\"train_set_x_flatten shape: \" + str(train_set_x.shape))\n",
    "print (\"train_set_y shape: \" + str(train_set_y.shape))\n",
    "print (\"test_set_x_flatten shape: \" + str(test_set_x.shape))\n",
    "print (\"test_set_y shape: \" + str(test_set_y.shape))\n",
    "print (\"sanity check after reshaping: \" + str(train_set_x[0:5,0]))\n"
   ]
  },
  {
   "cell_type": "markdown",
   "metadata": {},
   "source": [
    "**Train Model**"
   ]
  },
  {
   "cell_type": "code",
   "execution_count": 6,
   "metadata": {},
   "outputs": [
    {
     "name": "stdout",
     "output_type": "stream",
     "text": [
      "Cost after iteration 0: 0.693147\n",
      "Cost after iteration 100: 0.506765\n",
      "Cost after iteration 200: 0.442269\n",
      "Cost after iteration 300: 0.397201\n",
      "Cost after iteration 400: 0.362439\n",
      "Cost after iteration 500: 0.334271\n",
      "Cost after iteration 600: 0.310725\n",
      "Cost after iteration 700: 0.290608\n",
      "Cost after iteration 800: 0.273138\n",
      "Cost after iteration 900: 0.257771\n",
      "Cost after iteration 1000: 0.244114\n",
      "Cost after iteration 1100: 0.231873\n",
      "Cost after iteration 1200: 0.220823\n",
      "Cost after iteration 1300: 0.210787\n",
      "Cost after iteration 1400: 0.201623\n",
      "Cost after iteration 1500: 0.193217\n",
      "Cost after iteration 1600: 0.185474\n",
      "Cost after iteration 1700: 0.178317\n",
      "Cost after iteration 1800: 0.171678\n",
      "Cost after iteration 1900: 0.165504\n",
      "train accuracy: 98.08612440191388 %\n",
      "test accuracy: 70.0 %\n"
     ]
    }
   ],
   "source": [
    "model = LogisticRegression()\n",
    "\n",
    "params = model.fit(train_set_x, train_set_y, test_set_x, test_set_y, \n",
    "                  num_iterations = 2000, learning_rate = 0.004, verbose = True,\n",
    "                  output_pretrained_parameters = True)"
   ]
  },
  {
   "cell_type": "code",
   "execution_count": 7,
   "metadata": {},
   "outputs": [
    {
     "data": {
      "text/plain": [
       "{'Y_prediction_test': array([[1., 1., 1., 1., 1., 1., 0., 1., 1., 1., 0., 0., 1., 1., 0., 1.,\n",
       "         0., 1., 0., 0., 1., 0., 0., 1., 1., 1., 1., 0., 0., 1., 0., 1.,\n",
       "         1., 0., 1., 0., 0., 1., 0., 0., 1., 0., 1., 0., 1., 0., 0., 1.,\n",
       "         1., 0.]]),\n",
       " 'Y_prediction_train': array([[0., 0., 1., 0., 0., 0., 0., 1., 0., 0., 0., 1., 0., 1., 1., 0.,\n",
       "         0., 0., 0., 1., 0., 0., 0., 0., 1., 1., 0., 1., 0., 1., 0., 0.,\n",
       "         0., 0., 0., 0., 0., 0., 1., 0., 0., 0., 1., 0., 0., 0., 0., 1.,\n",
       "         0., 0., 1., 0., 0., 0., 1., 0., 1., 1., 0., 1., 1., 1., 0., 0.,\n",
       "         0., 0., 0., 0., 1., 0., 0., 1., 0., 0., 0., 1., 0., 0., 0., 0.,\n",
       "         0., 0., 0., 1., 1., 0., 0., 0., 1., 0., 0., 0., 0., 1., 1., 0.,\n",
       "         0., 1., 0., 0., 0., 0., 1., 0., 1., 0., 1., 1., 1., 1., 1., 1.,\n",
       "         0., 0., 0., 0., 0., 1., 0., 0., 0., 1., 0., 0., 1., 0., 1., 0.,\n",
       "         1., 1., 0., 0., 0., 1., 1., 0., 1., 1., 0., 0., 0., 0., 1., 0.,\n",
       "         1., 1., 1., 0., 1., 1., 0., 0., 0., 1., 0., 0., 1., 0., 0., 0.,\n",
       "         0., 0., 1., 0., 1., 0., 1., 0., 0., 1., 1., 1., 0., 0., 1., 1.,\n",
       "         0., 1., 0., 1., 0., 0., 0., 0., 0., 1., 0., 0., 1., 0., 0., 0.,\n",
       "         1., 0., 0., 0., 0., 1., 0., 0., 1., 0., 0., 0., 0., 0., 0., 0.,\n",
       "         0.]]),\n",
       " 'b': -0.017440751130050575,\n",
       " 'costs': [0.6931471805599453,\n",
       "  0.506764588383142,\n",
       "  0.4422689212945626,\n",
       "  0.39720105682274426,\n",
       "  0.3624394101236163,\n",
       "  0.3342713507722279,\n",
       "  0.3107252756897317,\n",
       "  0.29060824036293925,\n",
       "  0.273137693114055,\n",
       "  0.2577705277181775,\n",
       "  0.2441136462060781,\n",
       "  0.23187308366991688,\n",
       "  0.2208231816847665,\n",
       "  0.21078695342839807,\n",
       "  0.20162305996816512,\n",
       "  0.19321687776354446,\n",
       "  0.1854741984503167,\n",
       "  0.17831667895611145,\n",
       "  0.1716784886321422,\n",
       "  0.16550379492171552],\n",
       " 'db': -0.0001367620495836835,\n",
       " 'dw': array([[-0.00044561],\n",
       "        [ 0.00153422],\n",
       "        [ 0.00070766],\n",
       "        ...,\n",
       "        [ 0.00050517],\n",
       "        [ 0.00133379],\n",
       "        [-0.00156199]]),\n",
       " 'learning_rate': 0.004,\n",
       " 'num_iterations': 2000,\n",
       " 'w': array([[ 0.00872255],\n",
       "        [-0.02364406],\n",
       "        [-0.01100112],\n",
       "        ...,\n",
       "        [-0.01050893],\n",
       "        [-0.02702352],\n",
       "        [ 0.0209033 ]])}"
      ]
     },
     "execution_count": 7,
     "metadata": {},
     "output_type": "execute_result"
    }
   ],
   "source": [
    "## display model parameters\n",
    "params"
   ]
  },
  {
   "cell_type": "markdown",
   "metadata": {},
   "source": [
    "**plot cost**"
   ]
  },
  {
   "cell_type": "code",
   "execution_count": 8,
   "metadata": {},
   "outputs": [
    {
     "data": {
      "image/png": "[encoded data removed]",
      "text/plain": [
       "<Figure size 432x288 with 1 Axes>"
      ]
     },
     "metadata": {
      "needs_background": "light"
     },
     "output_type": "display_data"
    }
   ],
   "source": [
    "base.plot_cost_function(params['costs'], params['learning_rate'])"
   ]
  },
  {
   "cell_type": "markdown",
   "metadata": {},
   "source": [
    "**Test with new image**"
   ]
  },
  {
   "cell_type": "code",
   "execution_count": 9,
   "metadata": {},
   "outputs": [
    {
     "data": {
      "text/plain": [
       "array([0.])"
      ]
     },
     "execution_count": 9,
     "metadata": {},
     "output_type": "execute_result"
    }
   ],
   "source": [
    "#not a cat\n",
    "model.predict_by_image(\"images/img2.jpg\")"
   ]
  },
  {
   "cell_type": "code",
   "execution_count": 10,
   "metadata": {},
   "outputs": [
    {
     "data": {
      "text/plain": [
       "array([1.])"
      ]
     },
     "execution_count": 10,
     "metadata": {},
     "output_type": "execute_result"
    }
   ],
   "source": [
    "# a cat\n",
    "model.predict_by_image(\"images/img1.jpg\")"
   ]
  },
  {
   "cell_type": "code",
   "execution_count": null,
   "metadata": {},
   "outputs": [],
   "source": []
  }
 ],
 "metadata": {
  "kernelspec": {
   "display_name": "Python 3",
   "language": "python",
   "name": "python3"
  },
  "language_info": {
   "codemirror_mode": {
    "name": "ipython",
    "version": 3
   },
   "file_extension": ".py",
   "mimetype": "text/x-python",
   "name": "python",
   "nbconvert_exporter": "python",
   "pygments_lexer": "ipython3",
   "version": "3.6.9"
  }
 },
 "nbformat": 4,
 "nbformat_minor": 2
}
